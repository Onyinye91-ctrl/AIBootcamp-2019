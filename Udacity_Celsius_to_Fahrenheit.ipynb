{
  "nbformat": 4,
  "nbformat_minor": 0,
  "metadata": {
    "colab": {
      "name": "Udacity_Celsius to Fahrenheit",
      "provenance": [],
      "include_colab_link": true
    },
    "kernelspec": {
      "name": "python3",
      "display_name": "Python 3"
    },
    "accelerator": "GPU"
  },
  "cells": [
    {
      "cell_type": "markdown",
      "metadata": {
        "id": "view-in-github",
        "colab_type": "text"
      },
      "source": [
        "<a href=\"https://colab.research.google.com/github/Onyinye91-ctrl/AIBootcamp-2019/blob/master/Udacity_Celsius_to_Fahrenheit.ipynb\" target=\"_parent\"><img src=\"https://colab.research.google.com/assets/colab-badge.svg\" alt=\"Open In Colab\"/></a>"
      ]
    },
    {
      "cell_type": "code",
      "metadata": {
        "id": "jziQcMPHXGxk",
        "colab_type": "code",
        "colab": {}
      },
      "source": [
        "#Import Libraries\n",
        "import tensorflow as tf\n",
        "#tf.logging.set_verbosity (tf.logging.ERROR)"
      ],
      "execution_count": 0,
      "outputs": []
    },
    {
      "cell_type": "code",
      "metadata": {
        "id": "dUBMSGysY-I1",
        "colab_type": "code",
        "colab": {}
      },
      "source": [
        "import numpy as np"
      ],
      "execution_count": 0,
      "outputs": []
    },
    {
      "cell_type": "markdown",
      "metadata": {
        "id": "aaVg_9Hjxjyr",
        "colab_type": "text"
      },
      "source": [
        "#Set the Training Data "
      ]
    },
    {
      "cell_type": "code",
      "metadata": {
        "id": "-li2DBPoXKba",
        "colab_type": "code",
        "colab": {}
      },
      "source": [
        "celsius_q = np.array([-40, -10, 0, 8, 15, 22, 38], dtype = float)\n",
        "fahrenheit_a = np.array([-40, 14, 32, 46, 59, 72, 100], dtype = float)"
      ],
      "execution_count": 0,
      "outputs": []
    },
    {
      "cell_type": "code",
      "metadata": {
        "id": "4RplgcQuZsgk",
        "colab_type": "code",
        "outputId": "8d4423a1-4962-4615-defb-1c6aa4aa21cf",
        "colab": {
          "base_uri": "https://localhost:8080/",
          "height": 136
        }
      },
      "source": [
        "for i, c in enumerate (celsius_q):\n",
        "  print (\"{} degrees celsius = {} degrees fahrenheit\".format(c, fahrenheit_a[i]))"
      ],
      "execution_count": 0,
      "outputs": [
        {
          "output_type": "stream",
          "text": [
            "-40.0 degrees celsius = -40.0 degrees fahrenheit\n",
            "-10.0 degrees celsius = 14.0 degrees fahrenheit\n",
            "0.0 degrees celsius = 32.0 degrees fahrenheit\n",
            "8.0 degrees celsius = 46.0 degrees fahrenheit\n",
            "15.0 degrees celsius = 59.0 degrees fahrenheit\n",
            "22.0 degrees celsius = 72.0 degrees fahrenheit\n",
            "38.0 degrees celsius = 100.0 degrees fahrenheit\n"
          ],
          "name": "stdout"
        }
      ]
    },
    {
      "cell_type": "markdown",
      "metadata": {
        "id": "g4VzRQMKx9Tw",
        "colab_type": "text"
      },
      "source": [
        "Create Model"
      ]
    },
    {
      "cell_type": "code",
      "metadata": {
        "id": "8Jpf2UJecuev",
        "colab_type": "code",
        "colab": {}
      },
      "source": [
        "l0 = tf.keras.layers.Dense(units=1, input_shape=[1])\n",
        "\n",
        "model = tf.keras.Sequential([tf.keras.layers.Dense(units= 1, input_shape = [1])])"
      ],
      "execution_count": 0,
      "outputs": []
    },
    {
      "cell_type": "markdown",
      "metadata": {
        "id": "9XJMxI-CyLoD",
        "colab_type": "text"
      },
      "source": [
        "Assembly the Layer into the models\n"
      ]
    },
    {
      "cell_type": "code",
      "metadata": {
        "id": "9Mw-MYljjT9T",
        "colab_type": "code",
        "colab": {}
      },
      "source": [
        "model = tf.keras.Sequential([tf.keras.layers.Dense(units=1, input_shape= [1])])"
      ],
      "execution_count": 0,
      "outputs": []
    },
    {
      "cell_type": "markdown",
      "metadata": {
        "id": "rpRZ8r14yZRW",
        "colab_type": "text"
      },
      "source": [
        "Compile the Model"
      ]
    },
    {
      "cell_type": "code",
      "metadata": {
        "id": "6S59IUZrj2aA",
        "colab_type": "code",
        "colab": {}
      },
      "source": [
        "model.compile(loss='mean_squared_error', optimizer=tf.keras.optimizers.Adam(0.1))"
      ],
      "execution_count": 0,
      "outputs": []
    },
    {
      "cell_type": "code",
      "metadata": {
        "id": "2Daer1y2neWt",
        "colab_type": "code",
        "outputId": "81a21b95-8a73-4d64-9b0e-80f13c4f42a8",
        "colab": {
          "base_uri": "https://localhost:8080/",
          "height": 34
        }
      },
      "source": [
        "history = model.fit(celsius_q, fahrenheit_a, epochs = 500, verbose = False)\n",
        "print(\"finished trainig the model\")"
      ],
      "execution_count": 0,
      "outputs": [
        {
          "output_type": "stream",
          "text": [
            "finished trainig the model\n"
          ],
          "name": "stdout"
        }
      ]
    },
    {
      "cell_type": "markdown",
      "metadata": {
        "id": "cNgsuQxwys36",
        "colab_type": "text"
      },
      "source": [
        "Virtualization"
      ]
    },
    {
      "cell_type": "code",
      "metadata": {
        "id": "BhYzy2sAkpGi",
        "colab_type": "code",
        "outputId": "da26bc35-6c9f-45d8-9a12-77ff3e02399b",
        "colab": {
          "base_uri": "https://localhost:8080/",
          "height": 296
        }
      },
      "source": [
        "import matplotlib.pyplot as plt\n",
        "plt.xlabel(\"Epoch Number\")\n",
        "plt.ylabel('Loss Magnitude')\n",
        "plt.plot(history.history[\"loss\"])"
      ],
      "execution_count": 0,
      "outputs": [
        {
          "output_type": "execute_result",
          "data": {
            "text/plain": [
              "[<matplotlib.lines.Line2D at 0x7f3318542940>]"
            ]
          },
          "metadata": {
            "tags": []
          },
          "execution_count": 9
        },
        {
          "output_type": "display_data",
          "data": {
            "image/png": "[encoded data removed]",
            "text/plain": [
              "<Figure size 432x288 with 1 Axes>"
            ]
          },
          "metadata": {
            "tags": []
          }
        }
      ]
    },
    {
      "cell_type": "markdown",
      "metadata": {
        "id": "4rsZcL2_y4Kn",
        "colab_type": "text"
      },
      "source": [
        "Use the Model to Predict Values"
      ]
    },
    {
      "cell_type": "code",
      "metadata": {
        "id": "CBRG5dXBozEo",
        "colab_type": "code",
        "outputId": "a2e354e6-6793-4104-d4ac-d4e9ce59fde1",
        "colab": {
          "base_uri": "https://localhost:8080/",
          "height": 34
        }
      },
      "source": [
        "print(model.predict([100.0]))"
      ],
      "execution_count": 0,
      "outputs": [
        {
          "output_type": "stream",
          "text": [
            "[[211.28452]]\n"
          ],
          "name": "stdout"
        }
      ]
    },
    {
      "cell_type": "markdown",
      "metadata": {
        "id": "hGv2_EEmzff4",
        "colab_type": "text"
      },
      "source": [
        "Thw **Weight** and the **Biases**"
      ]
    },
    {
      "cell_type": "code",
      "metadata": {
        "id": "0XZYSFhoud9D",
        "colab_type": "code",
        "outputId": "1dc1409f-a3f6-47fb-a660-f28dc61dce3a",
        "colab": {
          "base_uri": "https://localhost:8080/",
          "height": 34
        }
      },
      "source": [
        "print(\"These are the layer variables:{}\".format(model.get_weights()))"
      ],
      "execution_count": 0,
      "outputs": [
        {
          "output_type": "stream",
          "text": [
            "These are the layer variables:[array([[1.8278394]], dtype=float32), array([28.500574], dtype=float32)]\n"
          ],
          "name": "stdout"
        }
      ]
    }
  ]
}